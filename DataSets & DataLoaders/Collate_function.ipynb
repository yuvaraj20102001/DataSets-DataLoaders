{
 "cells": [
  {
   "cell_type": "code",
   "execution_count": 6,
   "metadata": {},
   "outputs": [],
   "source": [
    "import torch\n",
    "from torch.utils.data import Dataset,DataLoader,RandomSampler,SequentialSampler,BatchSampler,default_collate\n",
    "from torchvision import datasets\n",
    "import matplotlib.pyplot as plt\n"
   ]
  },
  {
   "cell_type": "code",
   "execution_count": 47,
   "metadata": {},
   "outputs": [],
   "source": [
    "class TempDataset(Dataset):\n",
    "    def __init__(self):\n",
    "        super(TempDataset, self).__init__()\n",
    "        pass\n",
    "    def __getitem__(self,index):\n",
    "        # print(\"getitem is called\",index)\n",
    "        return [index,index*10,index*100]\n",
    "    def __len__(self):\n",
    "        len=50\n",
    "        # print(\"len is called \",len)\n",
    "        return len"
   ]
  },
  {
   "cell_type": "code",
   "execution_count": 48,
   "metadata": {},
   "outputs": [
    {
     "name": "stdout",
     "output_type": "stream",
     "text": [
      "[tensor([0, 1, 2, 3]), tensor([ 0, 10, 20, 30]), tensor([  0, 100, 200, 300])]\n",
      "[tensor([4, 5, 6, 7]), tensor([40, 50, 60, 70]), tensor([400, 500, 600, 700])]\n",
      "[tensor([ 8,  9, 10, 11]), tensor([ 80,  90, 100, 110]), tensor([ 800,  900, 1000, 1100])]\n",
      "[tensor([12, 13, 14, 15]), tensor([120, 130, 140, 150]), tensor([1200, 1300, 1400, 1500])]\n",
      "[tensor([16, 17, 18, 19]), tensor([160, 170, 180, 190]), tensor([1600, 1700, 1800, 1900])]\n",
      "[tensor([20, 21, 22, 23]), tensor([200, 210, 220, 230]), tensor([2000, 2100, 2200, 2300])]\n",
      "[tensor([24, 25, 26, 27]), tensor([240, 250, 260, 270]), tensor([2400, 2500, 2600, 2700])]\n",
      "[tensor([28, 29, 30, 31]), tensor([280, 290, 300, 310]), tensor([2800, 2900, 3000, 3100])]\n",
      "[tensor([32, 33, 34, 35]), tensor([320, 330, 340, 350]), tensor([3200, 3300, 3400, 3500])]\n",
      "[tensor([36, 37, 38, 39]), tensor([360, 370, 380, 390]), tensor([3600, 3700, 3800, 3900])]\n",
      "[tensor([40, 41, 42, 43]), tensor([400, 410, 420, 430]), tensor([4000, 4100, 4200, 4300])]\n",
      "[tensor([44, 45, 46, 47]), tensor([440, 450, 460, 470]), tensor([4400, 4500, 4600, 4700])]\n",
      "[tensor([48, 49]), tensor([480, 490]), tensor([4800, 4900])]\n"
     ]
    }
   ],
   "source": [
    "dataset=TempDataset()\n",
    "dataloader=DataLoader(dataset,batch_size=4)\n",
    "\n",
    "for i in dataloader:\n",
    "    print(i)"
   ]
  },
  {
   "cell_type": "code",
   "execution_count": 90,
   "metadata": {},
   "outputs": [
    {
     "name": "stdout",
     "output_type": "stream",
     "text": [
      "[(0, 1, 2), (0, 10, 20), (0, 100, 200)]\n",
      "[(3, 4, 5), (30, 40, 50), (300, 400, 500)]\n",
      "[(6, 7, 8), (60, 70, 80), (600, 700, 800)]\n",
      "[(9, 10, 11), (90, 100, 110), (900, 1000, 1100)]\n",
      "[(12, 13, 14), (120, 130, 140), (1200, 1300, 1400)]\n",
      "[(15, 16, 17), (150, 160, 170), (1500, 1600, 1700)]\n",
      "[(18, 19, 20), (180, 190, 200), (1800, 1900, 2000)]\n",
      "[(21, 22, 23), (210, 220, 230), (2100, 2200, 2300)]\n",
      "[(24, 25, 26), (240, 250, 260), (2400, 2500, 2600)]\n",
      "[(27, 28, 29), (270, 280, 290), (2700, 2800, 2900)]\n",
      "[(30, 31, 32), (300, 310, 320), (3000, 3100, 3200)]\n",
      "[(33, 34, 35), (330, 340, 350), (3300, 3400, 3500)]\n",
      "[(36, 37, 38), (360, 370, 380), (3600, 3700, 3800)]\n",
      "[(39, 40, 41), (390, 400, 410), (3900, 4000, 4100)]\n",
      "[(42, 43, 44), (420, 430, 440), (4200, 4300, 4400)]\n",
      "[(45, 46, 47), (450, 460, 470), (4500, 4600, 4700)]\n",
      "[(48, 49), (480, 490), (4800, 4900)]\n"
     ]
    }
   ],
   "source": [
    "def Own_collate_func(batch):\n",
    "    collated_list=list(zip(*batch))\n",
    "    return collated_list\n",
    "dataloader=DataLoader(dataset,batch_size=3,collate_fn=Own_collate_func)\n",
    "\n",
    "count=0\n",
    "for i in dataloader:\n",
    "    print(i)\n",
    "    if(count==1):\n",
    "        break"
   ]
  },
  {
   "cell_type": "code",
   "execution_count": 86,
   "metadata": {},
   "outputs": [
    {
     "name": "stdout",
     "output_type": "stream",
     "text": [
      "[(1, 2, 3), (20, 30, 40)]\n"
     ]
    }
   ],
   "source": [
    "a = [[1, 20], [2, 30], [3, 40]]\n",
    "a2 = list(zip(*a))\n",
    "a2[0]\n",
    "print(a2)"
   ]
  }
 ],
 "metadata": {
  "kernelspec": {
   "display_name": "Python 3.10.6 64-bit",
   "language": "python",
   "name": "python3"
  },
  "language_info": {
   "codemirror_mode": {
    "name": "ipython",
    "version": 3
   },
   "file_extension": ".py",
   "mimetype": "text/x-python",
   "name": "python",
   "nbconvert_exporter": "python",
   "pygments_lexer": "ipython3",
   "version": "3.10.6"
  },
  "orig_nbformat": 4,
  "vscode": {
   "interpreter": {
    "hash": "97cc609b13305c559618ec78a438abc56230b9381f827f22d070313b9a1f3777"
   }
  }
 },
 "nbformat": 4,
 "nbformat_minor": 2
}
