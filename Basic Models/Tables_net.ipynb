{
 "cells": [
  {
   "cell_type": "code",
   "execution_count": 21,
   "metadata": {},
   "outputs": [],
   "source": [
    "import torch\n",
    "from torch.utils.data import Dataset,DataLoader\n",
    "import matplotlib.pyplot as plt\n",
    "from torch.nn import Linear\n",
    "from torch import optim"
   ]
  },
  {
   "cell_type": "code",
   "execution_count": 22,
   "metadata": {},
   "outputs": [],
   "source": [
    "class Table_data(Dataset):\n",
    "    def __init__(self,length=50):\n",
    "        self.x=torch.arange(-50,50,1).view(-1,1).type(torch.float32)\n",
    "        self.y=8*torch.arange(-50,50,1).view(-1,1).type(torch.float32)\n",
    "        self.len=length\n",
    "    def __getitem__(self,index):\n",
    "        sample=self.x[index], self.y[index]\n",
    "        return(sample)\n",
    "    def __len__(self):\n",
    "        return self.len\n"
   ]
  },
  {
   "cell_type": "code",
   "execution_count": 23,
   "metadata": {},
   "outputs": [],
   "source": [
    "class Temp:\n",
    "    def __init__(self) -> None:\n",
    "        self.x = 10\n",
    "        "
   ]
  },
  {
   "cell_type": "code",
   "execution_count": 24,
   "metadata": {},
   "outputs": [],
   "source": [
    "temp_obj = Temp()"
   ]
  },
  {
   "cell_type": "code",
   "execution_count": 25,
   "metadata": {},
   "outputs": [
    {
     "data": {
      "text/plain": [
       "10"
      ]
     },
     "execution_count": 25,
     "metadata": {},
     "output_type": "execute_result"
    }
   ],
   "source": [
    "temp_obj.x"
   ]
  },
  {
   "cell_type": "code",
   "execution_count": 26,
   "metadata": {},
   "outputs": [],
   "source": [
    "full_dataset=Table_data()"
   ]
  },
  {
   "cell_type": "code",
   "execution_count": 27,
   "metadata": {},
   "outputs": [
    {
     "data": {
      "text/plain": [
       "tensor([[-50.],\n",
       "        [-49.],\n",
       "        [-48.],\n",
       "        [-47.],\n",
       "        [-46.],\n",
       "        [-45.],\n",
       "        [-44.],\n",
       "        [-43.],\n",
       "        [-42.],\n",
       "        [-41.],\n",
       "        [-40.],\n",
       "        [-39.],\n",
       "        [-38.],\n",
       "        [-37.],\n",
       "        [-36.],\n",
       "        [-35.],\n",
       "        [-34.],\n",
       "        [-33.],\n",
       "        [-32.],\n",
       "        [-31.],\n",
       "        [-30.],\n",
       "        [-29.],\n",
       "        [-28.],\n",
       "        [-27.],\n",
       "        [-26.],\n",
       "        [-25.],\n",
       "        [-24.],\n",
       "        [-23.],\n",
       "        [-22.],\n",
       "        [-21.],\n",
       "        [-20.],\n",
       "        [-19.],\n",
       "        [-18.],\n",
       "        [-17.],\n",
       "        [-16.],\n",
       "        [-15.],\n",
       "        [-14.],\n",
       "        [-13.],\n",
       "        [-12.],\n",
       "        [-11.],\n",
       "        [-10.],\n",
       "        [ -9.],\n",
       "        [ -8.],\n",
       "        [ -7.],\n",
       "        [ -6.],\n",
       "        [ -5.],\n",
       "        [ -4.],\n",
       "        [ -3.],\n",
       "        [ -2.],\n",
       "        [ -1.],\n",
       "        [  0.],\n",
       "        [  1.],\n",
       "        [  2.],\n",
       "        [  3.],\n",
       "        [  4.],\n",
       "        [  5.],\n",
       "        [  6.],\n",
       "        [  7.],\n",
       "        [  8.],\n",
       "        [  9.],\n",
       "        [ 10.],\n",
       "        [ 11.],\n",
       "        [ 12.],\n",
       "        [ 13.],\n",
       "        [ 14.],\n",
       "        [ 15.],\n",
       "        [ 16.],\n",
       "        [ 17.],\n",
       "        [ 18.],\n",
       "        [ 19.],\n",
       "        [ 20.],\n",
       "        [ 21.],\n",
       "        [ 22.],\n",
       "        [ 23.],\n",
       "        [ 24.],\n",
       "        [ 25.],\n",
       "        [ 26.],\n",
       "        [ 27.],\n",
       "        [ 28.],\n",
       "        [ 29.],\n",
       "        [ 30.],\n",
       "        [ 31.],\n",
       "        [ 32.],\n",
       "        [ 33.],\n",
       "        [ 34.],\n",
       "        [ 35.],\n",
       "        [ 36.],\n",
       "        [ 37.],\n",
       "        [ 38.],\n",
       "        [ 39.],\n",
       "        [ 40.],\n",
       "        [ 41.],\n",
       "        [ 42.],\n",
       "        [ 43.],\n",
       "        [ 44.],\n",
       "        [ 45.],\n",
       "        [ 46.],\n",
       "        [ 47.],\n",
       "        [ 48.],\n",
       "        [ 49.]])"
      ]
     },
     "execution_count": 27,
     "metadata": {},
     "output_type": "execute_result"
    }
   ],
   "source": [
    "full_dataset.x"
   ]
  },
  {
   "cell_type": "code",
   "execution_count": null,
   "metadata": {},
   "outputs": [],
   "source": []
  },
  {
   "cell_type": "code",
   "execution_count": null,
   "metadata": {},
   "outputs": [],
   "source": []
  },
  {
   "cell_type": "code",
   "execution_count": 28,
   "metadata": {},
   "outputs": [],
   "source": [
    "from torch import nn"
   ]
  },
  {
   "cell_type": "code",
   "execution_count": 29,
   "metadata": {},
   "outputs": [],
   "source": [
    "\n",
    "class LR(nn.Module):\n",
    "    def __init__(self,input_size,output_size):\n",
    "        super().__init__()\n",
    "        self.linear=nn.Linear(input_size,output_size)\n",
    "    def forward(self,x):\n",
    "        out=self.linear(x)\n",
    "        return out\n",
    "\n",
    "    "
   ]
  },
  {
   "cell_type": "code",
   "execution_count": 30,
   "metadata": {},
   "outputs": [],
   "source": [
    "# x=x.type(torch.float32)\n",
    "\n",
    "# torch.manual_seed(1)\n",
    "# lr=LR(1,1)\n",
    "# print(list(lr.parameters()))\n",
    "# lr(x)\n"
   ]
  },
  {
   "cell_type": "code",
   "execution_count": 31,
   "metadata": {},
   "outputs": [
    {
     "name": "stdout",
     "output_type": "stream",
     "text": [
      "40 10\n",
      "<torch.utils.data.dataset.Subset object at 0x7f8b97107cd0> <torch.utils.data.dataset.Subset object at 0x7f8b971075b0>\n",
      "[[tensor([[-26.],\n",
      "        [-46.],\n",
      "        [-17.],\n",
      "        [-22.],\n",
      "        [-25.],\n",
      "        [ -4.],\n",
      "        [-33.],\n",
      "        [ -6.],\n",
      "        [-10.],\n",
      "        [-45.],\n",
      "        [-41.],\n",
      "        [-28.],\n",
      "        [-29.],\n",
      "        [-21.],\n",
      "        [-43.],\n",
      "        [-40.],\n",
      "        [-34.],\n",
      "        [-14.],\n",
      "        [ -2.],\n",
      "        [-48.],\n",
      "        [-35.],\n",
      "        [-49.],\n",
      "        [ -5.],\n",
      "        [-18.],\n",
      "        [-27.],\n",
      "        [-23.],\n",
      "        [-19.],\n",
      "        [-13.],\n",
      "        [-16.],\n",
      "        [-47.],\n",
      "        [-38.],\n",
      "        [-20.],\n",
      "        [-11.],\n",
      "        [-42.],\n",
      "        [ -9.],\n",
      "        [-37.],\n",
      "        [-31.],\n",
      "        [-24.],\n",
      "        [ -3.],\n",
      "        [-12.]]), tensor([[-208.],\n",
      "        [-368.],\n",
      "        [-136.],\n",
      "        [-176.],\n",
      "        [-200.],\n",
      "        [ -32.],\n",
      "        [-264.],\n",
      "        [ -48.],\n",
      "        [ -80.],\n",
      "        [-360.],\n",
      "        [-328.],\n",
      "        [-224.],\n",
      "        [-232.],\n",
      "        [-168.],\n",
      "        [-344.],\n",
      "        [-320.],\n",
      "        [-272.],\n",
      "        [-112.],\n",
      "        [ -16.],\n",
      "        [-384.],\n",
      "        [-280.],\n",
      "        [-392.],\n",
      "        [ -40.],\n",
      "        [-144.],\n",
      "        [-216.],\n",
      "        [-184.],\n",
      "        [-152.],\n",
      "        [-104.],\n",
      "        [-128.],\n",
      "        [-376.],\n",
      "        [-304.],\n",
      "        [-160.],\n",
      "        [ -88.],\n",
      "        [-336.],\n",
      "        [ -72.],\n",
      "        [-296.],\n",
      "        [-248.],\n",
      "        [-192.],\n",
      "        [ -24.],\n",
      "        [ -96.]])]]\n"
     ]
    }
   ],
   "source": [
    "torch.manual_seed(1)\n",
    "lr=LR(1,1)\n",
    "\n",
    "train_size = int(0.8 * len(full_dataset))\n",
    "test_size = int(0.2*len(full_dataset))\n",
    "\n",
    "train_dataset, test_dataset = torch.utils.data.random_split(full_dataset, [train_size, test_size])\n",
    "print(train_size,test_size)\n",
    "\n",
    "# print(\"Train dataset:::\",train_dataset[0:],\"Test dataset:::\",test_dataset)\n",
    "\n",
    "print(train_dataset,test_dataset)\n",
    "\n",
    "trainloader = DataLoader(dataset = train_dataset, batch_size = len(train_dataset))\n",
    "testloader=  DataLoader(dataset = test_dataset, batch_size=len(test_dataset)   )\n",
    "\n",
    "criteria=nn.MSELoss()\n",
    "\n",
    "print(list(trainloader))\n",
    "# print()\n",
    "\n",
    "sgd=optim.SGD(lr.parameters(),0.0001)\n"
   ]
  },
  {
   "cell_type": "code",
   "execution_count": null,
   "metadata": {},
   "outputs": [],
   "source": []
  },
  {
   "cell_type": "code",
   "execution_count": 41,
   "metadata": {},
   "outputs": [
    {
     "name": "stdout",
     "output_type": "stream",
     "text": [
      "[Parameter containing:\n",
      "tensor([[7.9801]], requires_grad=True), Parameter containing:\n",
      "tensor([-0.6555], requires_grad=True)]\n"
     ]
    }
   ],
   "source": [
    "\n",
    "print(list(lr.parameters()))\n",
    "\n",
    "\n",
    "def Table_nn(lr,trainloader,testloader,sgd,criteria):\n",
    "    train_loss=[]\n",
    "    test_loss=[]\n",
    "    for epoch in range(100):\n",
    "        for x1,y1 in trainloader:\n",
    "            yhat_train=lr(x1)\n",
    "            trloss=criteria(yhat_train,y1)\n",
    "        \n",
    "            sgd.zero_grad()\n",
    "            trloss.backward()\n",
    "        # print(trloss)\n",
    "            sgd.step()\n",
    "        train_loss.append(trloss.detach().numpy())\n",
    "\n",
    "        for x2,y2 in testloader:\n",
    "            yhat_test=lr(x2)\n",
    "            tsloss=criteria(yhat_test,y2)\n",
    "        \n",
    "        test_loss.append(tsloss.detach().numpy())\n",
    "    \n",
    "        # print(\"epoch {}:: , train_loss {} ::: , test_loss {}\".format(epoch,trloss,tsloss))\n",
    "    return lr,test_loss,train_loss\n",
    "        \n",
    "    "
   ]
  },
  {
   "cell_type": "code",
   "execution_count": null,
   "metadata": {},
   "outputs": [],
   "source": []
  },
  {
   "cell_type": "code",
   "execution_count": 42,
   "metadata": {},
   "outputs": [
    {
     "name": "stdout",
     "output_type": "stream",
     "text": [
      "tensor([[39.2486]], grad_fn=<AddmmBackward0>)\n",
      "[array(0.12291368, dtype=float32), array(0.1229014, dtype=float32), array(0.12288852, dtype=float32), array(0.12287865, dtype=float32), array(0.12286635, dtype=float32), array(0.12285572, dtype=float32), array(0.12284429, dtype=float32), array(0.12283441, dtype=float32), array(0.12282394, dtype=float32), array(0.1228113, dtype=float32), array(0.12280061, dtype=float32), array(0.12278793, dtype=float32), array(0.12277713, dtype=float32), array(0.12276558, dtype=float32), array(0.12275404, dtype=float32), array(0.12274321, dtype=float32), array(0.12273057, dtype=float32), array(0.12271986, dtype=float32), array(0.12270723, dtype=float32), array(0.12269737, dtype=float32), array(0.12268375, dtype=float32), array(0.12267467, dtype=float32), array(0.12266314, dtype=float32), array(0.12265179, dtype=float32), array(0.1226419, dtype=float32), array(0.12262903, dtype=float32), array(0.12261677, dtype=float32), array(0.12260596, dtype=float32), array(0.1225933, dtype=float32), array(0.12258395, dtype=float32), array(0.12257072, dtype=float32), array(0.12256125, dtype=float32), array(0.1225486, dtype=float32), array(0.12253779, dtype=float32), array(0.12252191, dtype=float32), array(0.12251045, dtype=float32), array(0.12250058, dtype=float32), array(0.12248784, dtype=float32), array(0.1224763, dtype=float32), array(0.12246768, dtype=float32), array(0.12245615, dtype=float32), array(0.1224463, dtype=float32), array(0.12243269, dtype=float32), array(0.12242043, dtype=float32), array(0.12240963, dtype=float32), array(0.12239821, dtype=float32), array(0.12238877, dtype=float32), array(0.12237482, dtype=float32), array(0.12236591, dtype=float32), array(0.1223551, dtype=float32), array(0.12234247, dtype=float32), array(0.12233166, dtype=float32), array(0.12231906, dtype=float32), array(0.12230933, dtype=float32), array(0.12229574, dtype=float32), array(0.1222868, dtype=float32), array(0.12227605, dtype=float32), array(0.12226319, dtype=float32), array(0.12225346, dtype=float32), array(0.12224014, dtype=float32), array(0.12222934, dtype=float32), array(0.12221742, dtype=float32), array(0.12220664, dtype=float32), array(0.12219451, dtype=float32), array(0.12218299, dtype=float32), array(0.12217219, dtype=float32), array(0.1221607, dtype=float32), array(0.1221499, dtype=float32), array(0.12213657, dtype=float32), array(0.12212684, dtype=float32), array(0.12211399, dtype=float32), array(0.12210248, dtype=float32), array(0.1220931, dtype=float32), array(0.12208158, dtype=float32), array(0.12207173, dtype=float32), array(0.12205924, dtype=float32), array(0.12204699, dtype=float32), array(0.12203622, dtype=float32), array(0.12202431, dtype=float32), array(0.12201498, dtype=float32), array(0.12200104, dtype=float32), array(0.12199215, dtype=float32), array(0.12198137, dtype=float32), array(0.12196914, dtype=float32), array(0.12195835, dtype=float32), array(0.12194587, dtype=float32), array(0.12193605, dtype=float32), array(0.12192247, dtype=float32), array(0.12191303, dtype=float32), array(0.12190163, dtype=float32), array(0.12188882, dtype=float32), array(0.12188028, dtype=float32), array(0.12186696, dtype=float32), array(0.12185629, dtype=float32), array(0.12184443, dtype=float32), array(0.12183364, dtype=float32), array(0.12182213, dtype=float32), array(0.12181002, dtype=float32), array(0.12180127, dtype=float32), array(0.12178916, dtype=float32)] [array(0.09973656, dtype=float32), array(0.09972722, dtype=float32), array(0.0997182, dtype=float32), array(0.09970867, dtype=float32), array(0.09969951, dtype=float32), array(0.09968943, dtype=float32), array(0.09968188, dtype=float32), array(0.09967294, dtype=float32), array(0.09966281, dtype=float32), array(0.09965409, dtype=float32), array(0.09964518, dtype=float32), array(0.09963559, dtype=float32), array(0.0996268, dtype=float32), array(0.09961662, dtype=float32), array(0.09960777, dtype=float32), array(0.09959904, dtype=float32), array(0.09958887, dtype=float32), array(0.09958006, dtype=float32), array(0.0995705, dtype=float32), array(0.09956158, dtype=float32), array(0.09955217, dtype=float32), array(0.09954304, dtype=float32), array(0.0995339, dtype=float32), array(0.09952445, dtype=float32), array(0.09951517, dtype=float32), array(0.09950602, dtype=float32), array(0.09949651, dtype=float32), array(0.09948748, dtype=float32), array(0.09947816, dtype=float32), array(0.09946901, dtype=float32), array(0.09945874, dtype=float32), array(0.09945133, dtype=float32), array(0.09944101, dtype=float32), array(0.09943186, dtype=float32), array(0.09942254, dtype=float32), array(0.09941043, dtype=float32), array(0.09940072, dtype=float32), array(0.09939127, dtype=float32), array(0.09938245, dtype=float32), array(0.099373, dtype=float32), array(0.09936436, dtype=float32), array(0.09935489, dtype=float32), array(0.09934478, dtype=float32), array(0.09933611, dtype=float32), array(0.09932663, dtype=float32), array(0.09931802, dtype=float32), array(0.0993081, dtype=float32), array(0.09929939, dtype=float32), array(0.09928997, dtype=float32), array(0.09928111, dtype=float32), array(0.09927095, dtype=float32), array(0.09926228, dtype=float32), array(0.09925274, dtype=float32), array(0.09924382, dtype=float32), array(0.09923443, dtype=float32), array(0.09922531, dtype=float32), array(0.09921636, dtype=float32), array(0.09920741, dtype=float32), array(0.09919859, dtype=float32), array(0.09918914, dtype=float32), array(0.09918024, dtype=float32), array(0.09917087, dtype=float32), array(0.0991616, dtype=float32), array(0.0991523, dtype=float32), array(0.09914316, dtype=float32), array(0.0991336, dtype=float32), array(0.0991243, dtype=float32), array(0.09911524, dtype=float32), array(0.09910588, dtype=float32), array(0.09909697, dtype=float32), array(0.09908752, dtype=float32), array(0.09907871, dtype=float32), array(0.0990694, dtype=float32), array(0.09906054, dtype=float32), array(0.0990511, dtype=float32), array(0.099041, dtype=float32), array(0.0990345, dtype=float32), array(0.09902503, dtype=float32), array(0.09901644, dtype=float32), array(0.09900629, dtype=float32), array(0.09899763, dtype=float32), array(0.09898821, dtype=float32), array(0.09897958, dtype=float32), array(0.09896944, dtype=float32), array(0.09896099, dtype=float32), array(0.09895146, dtype=float32), array(0.09894256, dtype=float32), array(0.09893318, dtype=float32), array(0.09892418, dtype=float32), array(0.09891476, dtype=float32), array(0.09890534, dtype=float32), array(0.09889653, dtype=float32), array(0.09888807, dtype=float32), array(0.09887916, dtype=float32), array(0.09886982, dtype=float32), array(0.09886045, dtype=float32), array(0.09885129, dtype=float32), array(0.09884174, dtype=float32), array(0.09883262, dtype=float32), array(0.09882325, dtype=float32)]\n",
      "100 100\n"
     ]
    }
   ],
   "source": [
    "\n",
    "\n",
    "\n",
    "X=torch.tensor([[5.0]],requires_grad=True)\n",
    "\n",
    "predicted,test_loss,train_loss=Table_nn(lr,trainloader,testloader,sgd,criteria)\n",
    "print(predicted(X))\n",
    "print(test_loss,train_loss)\n",
    "print(len(test_loss),len(train_loss))"
   ]
  },
  {
   "cell_type": "code",
   "execution_count": null,
   "metadata": {},
   "outputs": [],
   "source": []
  },
  {
   "cell_type": "code",
   "execution_count": null,
   "metadata": {},
   "outputs": [],
   "source": []
  }
 ],
 "metadata": {
  "kernelspec": {
   "display_name": "Python 3.10.6 64-bit",
   "language": "python",
   "name": "python3"
  },
  "language_info": {
   "codemirror_mode": {
    "name": "ipython",
    "version": 3
   },
   "file_extension": ".py",
   "mimetype": "text/x-python",
   "name": "python",
   "nbconvert_exporter": "python",
   "pygments_lexer": "ipython3",
   "version": "3.10.6"
  },
  "orig_nbformat": 4,
  "vscode": {
   "interpreter": {
    "hash": "97cc609b13305c559618ec78a438abc56230b9381f827f22d070313b9a1f3777"
   }
  }
 },
 "nbformat": 4,
 "nbformat_minor": 2
}
